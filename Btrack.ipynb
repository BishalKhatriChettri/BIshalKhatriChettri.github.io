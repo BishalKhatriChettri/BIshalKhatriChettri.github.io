{
  "nbformat": 4,
  "nbformat_minor": 0,
  "metadata": {
    "colab": {
      "provenance": [],
      "authorship_tag": "ABX9TyPsaGfd9onGlLb2VLMglidn",
      "include_colab_link": true
    },
    "kernelspec": {
      "name": "python3",
      "display_name": "Python 3"
    },
    "language_info": {
      "name": "python"
    }
  },
  "cells": [
    {
      "cell_type": "markdown",
      "metadata": {
        "id": "view-in-github",
        "colab_type": "text"
      },
      "source": [
        "<a href=\"https://colab.research.google.com/github/BishalKhatriChettri/BIshalKhatriChettri.github.io/blob/main/Btrack.ipynb\" target=\"_parent\"><img src=\"https://colab.research.google.com/assets/colab-badge.svg\" alt=\"Open In Colab\"/></a>"
      ]
    },
    {
      "cell_type": "code",
      "execution_count": null,
      "metadata": {
        "id": "uBHzvTmMJgAt"
      },
      "outputs": [],
      "source": [
        "\n",
        "import requests\n",
        "import pandas as pd\n",
        "from getpass import getpass\n",
        "\n",
        "# === 🔐 SAFELY ENTER YOUR JIRA CREDENTIALS ===\n",
        "email = input(\"Enter your Jira email: \")\n",
        "api_token = getpass(\"Enter your Jira API token: \")  # Hidden input\n",
        "\n",
        "# === 🔧 SET YOUR JIRA SETTINGS HERE ===\n",
        "domain = \"https://bishalkhatrico.atlassian.net\"\n",
        "project_key = \"BT\"  # Replace with your actual project key\n",
        "jql = f\"project={project_key}\"\n",
        "\n",
        "# === 📡 SEND REQUEST TO JIRA API ===\n",
        "url = f\"{domain}/rest/api/3/search\"\n",
        "headers = {\n",
        "    \"Accept\": \"application/json\"\n",
        "}\n",
        "params = {\n",
        "    \"jql\": jql,\n",
        "    \"maxResults\": 50  # adjust as needed\n",
        "}\n",
        "\n",
        "response = requests.get(\n",
        "    url,\n",
        "    headers=headers,\n",
        "    params=params,\n",
        "    auth=(email, api_token)\n",
        ")\n",
        "\n",
        "# === 📊 PROCESS THE RESPONSE ===\n",
        "if response.status_code == 200:\n",
        "    data = response.json()\n",
        "    issues = []\n",
        "\n",
        "    for issue in data.get(\"issues\", []):\n",
        "        fields = issue[\"fields\"]\n",
        "        issues.append({\n",
        "            \"Key\": issue[\"key\"],\n",
        "            \"Summary\": fields.get(\"summary\"),\n",
        "            \"Status\": fields.get(\"status\", {}).get(\"name\"),\n",
        "            \"Created\": fields.get(\"created\"),\n",
        "            \"Updated\": fields.get(\"updated\")\n",
        "        })\n",
        "\n",
        "    df = pd.DataFrame(issues)\n",
        "    print(df)\n",
        "else:\n",
        "    print(\"❌ Failed to fetch issues:\", response.status_code)\n",
        "    print(response.text)"
      ]
    },
    {
      "cell_type": "code",
      "source": [],
      "metadata": {
        "id": "Y0vjRLo3W6WD"
      },
      "execution_count": null,
      "outputs": []
    }
  ]
}