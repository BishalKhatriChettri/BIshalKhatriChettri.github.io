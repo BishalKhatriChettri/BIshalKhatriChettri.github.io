import pandas as pd
import matplotlib.pyplot as plt
import seaborn as sns

# Load data
df = pd.read_csv("bug_reports.csv")

# Convert dates
df['ReportedDate'] = pd.to_datetime(df['ReportedDate'])
df['ClosedDate'] = pd.to_datetime(df['ClosedDate'])

# Show first few rows
print(df.head())

# 1. Bugs by severity
severity_counts = df['Severity'].value_counts()
severity_counts.plot(kind='bar', title='Bug Count by Severity', color='orange')
plt.xlabel("Severity")
plt.ylabel("Number of Bugs")
plt.tight_layout()
plt.show()

# 2. Bugs over time
bugs_by_date = df.groupby('ReportedDate').size()
bugs_by_date.plot(kind='line', marker='o', title='Bugs Reported Over Time')
plt.xlabel("Date")
plt.ylabel("Number of Bugs")
plt.tight_layout()
plt.show()

# 3. Bugs by module
module_counts = df['Module'].value_counts()
module_counts.plot(kind='barh', title='Bugs by Module', color='green')
plt.xlabel("Number of Bugs")
plt.tight_layout()
plt.show()

# 4. Bugs per tester
tester_counts = df['Tester'].value_counts()
sns.barplot(x=tester_counts.index, y=tester_counts.values)
plt.title('Bugs Found by Tester')
plt.xlabel("Tester")
plt.ylabel("Number of Bugs")
plt.tight_layout()
plt.show()