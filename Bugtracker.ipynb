
import requests
import pandas as pd
from getpass import getpass

# === 🔐 SAFELY ENTER YOUR JIRA CREDENTIALS ===
email = input("Enter your Jira email: ")
api_token = getpass("Enter your Jira API token: ")  # Hidden input

# === 🔧 SET YOUR JIRA SETTINGS HERE ===
domain = "https://bishalkhatrico.atlassian.net"
project_key = "BT"  # Replace with your actual project key
jql = f"project={project_key}"

# === 📡 SEND REQUEST TO JIRA API ===
url = f"{domain}/rest/api/3/search"
headers = {
    "Accept": "application/json"
}
params = {
    "jql": jql,
    "maxResults": 50  # adjust as needed
}

response = requests.get(
    url,
    headers=headers,
    params=params,
    auth=(email, api_token)
)

# === 📊 PROCESS THE RESPONSE ===
if response.status_code == 200:
    data = response.json()
    issues = []

    for issue in data.get("issues", []):
        fields = issue["fields"]
        issues.append({
            "Key": issue["key"],
            "Summary": fields.get("summary"),
            "Status": fields.get("status", {}).get("name"),
            "Created": fields.get("created"),
            "Updated": fields.get("updated")
        })

    df = pd.DataFrame(issues)
    print(df)
else:
    print("❌ Failed to fetch issues:", response.status_code)
    print(response.text)
